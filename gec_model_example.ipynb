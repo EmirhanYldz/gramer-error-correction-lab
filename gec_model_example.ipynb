{
 "cells": [
  {
   "cell_type": "code",
   "execution_count": null,
   "metadata": {
    "id": "4WPffA53Sx9-"
   },
   "outputs": [],
   "source": [
    "!pip install -qU transformers"
   ]
  },
  {
   "cell_type": "code",
   "execution_count": null,
   "metadata": {
    "colab": {
     "base_uri": "https://localhost:8080/"
    },
    "id": "MoJmOSDYUC14",
    "outputId": "b5894e68-7b17-476c-f655-1170369bcdfe"
   },
   "outputs": [
    {
     "name": "stdout",
     "output_type": "stream",
     "text": [
      "Archive:  my_trained_model(1).zip\n",
      "   creating: my_trained_model/\n",
      "  inflating: my_trained_model/spiece.model  \n",
      "  inflating: my_trained_model/training_args.bin  \n",
      "  inflating: my_trained_model/model.safetensors  \n",
      "  inflating: my_trained_model/tokenizer_config.json  \n",
      "  inflating: my_trained_model/config.json  \n",
      "  inflating: my_trained_model/generation_config.json  \n",
      "  inflating: my_trained_model/special_tokens_map.json  \n",
      "  inflating: my_trained_model/added_tokens.json  \n"
     ]
    }
   ],
   "source": [
    "!unzip my_trained_model\\(1\\).zip"
   ]
  },
  {
   "cell_type": "code",
   "execution_count": null,
   "metadata": {
    "id": "5swB8zv1Tovm"
   },
   "outputs": [],
   "source": [
    "from transformers import T5ForConditionalGeneration, T5Tokenizer\n",
    "import torch\n",
    "\n",
    "device = torch.device(\"cuda\" if torch.cuda.is_available() else \"cpu\")\n",
    "\n",
    "tokenizer = T5Tokenizer.from_pretrained(\"my_trained_model\")\n",
    "\n",
    "model = T5ForConditionalGeneration.from_pretrained(\"my_trained_model\").to(device)"
   ]
  },
  {
   "cell_type": "code",
   "execution_count": null,
   "metadata": {
    "colab": {
     "base_uri": "https://localhost:8080/"
    },
    "id": "HEKPwcxlTmJG",
    "outputId": "31af484c-c214-48e4-e8c2-f7e9aa6b6670"
   },
   "outputs": [
    {
     "name": "stdout",
     "output_type": "stream",
     "text": [
      "I yesterday went to school\n"
     ]
    }
   ],
   "source": [
    "input_text = \"I yesterday went to school\"\n",
    "inputs = tokenizer(f\"correct: {input_text}\", return_tensors=\"pt\").to(device)\n",
    "outputs = model.generate(**inputs)\n",
    "corrected_text = tokenizer.decode(outputs[0], skip_special_tokens=True)\n",
    "print(corrected_text)"
   ]
  },
  {
   "cell_type": "code",
   "execution_count": null,
   "metadata": {
    "colab": {
     "base_uri": "https://localhost:8080/"
    },
    "id": "qw40ndaab_ju",
    "outputId": "21b4a264-75b1-4c7a-a0f3-a0434b822dcc"
   },
   "outputs": [
    {
     "name": "stdout",
     "output_type": "stream",
     "text": [
      "\u001b[?25l   \u001b[90m━━━━━━━━━━━━━━━━━━━━━━━━━━━━━━━━━━━━━━━━\u001b[0m \u001b[32m0.0/324.4 kB\u001b[0m \u001b[31m?\u001b[0m eta \u001b[36m-:--:--\u001b[0m\r",
      "\u001b[2K   \u001b[91m━━━━━━━━━━━━━━━━━━━━━━━━━━━━━━━━━━━━━━━\u001b[0m\u001b[90m╺\u001b[0m \u001b[32m317.4/324.4 kB\u001b[0m \u001b[31m13.1 MB/s\u001b[0m eta \u001b[36m0:00:01\u001b[0m\r",
      "\u001b[2K   \u001b[90m━━━━━━━━━━━━━━━━━━━━━━━━━━━━━━━━━━━━━━━━\u001b[0m \u001b[32m324.4/324.4 kB\u001b[0m \u001b[31m7.6 MB/s\u001b[0m eta \u001b[36m0:00:00\u001b[0m\n",
      "\u001b[2K   \u001b[90m━━━━━━━━━━━━━━━━━━━━━━━━━━━━━━━━━━━━━━━━\u001b[0m \u001b[32m527.3/527.3 kB\u001b[0m \u001b[31m24.0 MB/s\u001b[0m eta \u001b[36m0:00:00\u001b[0m\n",
      "\u001b[2K   \u001b[90m━━━━━━━━━━━━━━━━━━━━━━━━━━━━━━━━━━━━━━━━\u001b[0m \u001b[32m363.4/363.4 MB\u001b[0m \u001b[31m2.5 MB/s\u001b[0m eta \u001b[36m0:00:00\u001b[0m\n",
      "\u001b[2K   \u001b[90m━━━━━━━━━━━━━━━━━━━━━━━━━━━━━━━━━━━━━━━━\u001b[0m \u001b[32m13.8/13.8 MB\u001b[0m \u001b[31m77.8 MB/s\u001b[0m eta \u001b[36m0:00:00\u001b[0m\n",
      "\u001b[2K   \u001b[90m━━━━━━━━━━━━━━━━━━━━━━━━━━━━━━━━━━━━━━━━\u001b[0m \u001b[32m24.6/24.6 MB\u001b[0m \u001b[31m66.8 MB/s\u001b[0m eta \u001b[36m0:00:00\u001b[0m\n",
      "\u001b[2K   \u001b[90m━━━━━━━━━━━━━━━━━━━━━━━━━━━━━━━━━━━━━━━━\u001b[0m \u001b[32m883.7/883.7 kB\u001b[0m \u001b[31m35.4 MB/s\u001b[0m eta \u001b[36m0:00:00\u001b[0m\n",
      "\u001b[2K   \u001b[90m━━━━━━━━━━━━━━━━━━━━━━━━━━━━━━━━━━━━━━━━\u001b[0m \u001b[32m664.8/664.8 MB\u001b[0m \u001b[31m920.5 kB/s\u001b[0m eta \u001b[36m0:00:00\u001b[0m\n",
      "\u001b[2K   \u001b[90m━━━━━━━━━━━━━━━━━━━━━━━━━━━━━━━━━━━━━━━━\u001b[0m \u001b[32m211.5/211.5 MB\u001b[0m \u001b[31m6.5 MB/s\u001b[0m eta \u001b[36m0:00:00\u001b[0m\n",
      "\u001b[2K   \u001b[90m━━━━━━━━━━━━━━━━━━━━━━━━━━━━━━━━━━━━━━━━\u001b[0m \u001b[32m56.3/56.3 MB\u001b[0m \u001b[31m11.7 MB/s\u001b[0m eta \u001b[36m0:00:00\u001b[0m\n",
      "\u001b[2K   \u001b[90m━━━━━━━━━━━━━━━━━━━━━━━━━━━━━━━━━━━━━━━━\u001b[0m \u001b[32m127.9/127.9 MB\u001b[0m \u001b[31m9.8 MB/s\u001b[0m eta \u001b[36m0:00:00\u001b[0m\n",
      "\u001b[2K   \u001b[90m━━━━━━━━━━━━━━━━━━━━━━━━━━━━━━━━━━━━━━━━\u001b[0m \u001b[32m207.5/207.5 MB\u001b[0m \u001b[31m1.6 MB/s\u001b[0m eta \u001b[36m0:00:00\u001b[0m\n",
      "\u001b[2K   \u001b[90m━━━━━━━━━━━━━━━━━━━━━━━━━━━━━━━━━━━━━━━━\u001b[0m \u001b[32m21.1/21.1 MB\u001b[0m \u001b[31m75.0 MB/s\u001b[0m eta \u001b[36m0:00:00\u001b[0m\n",
      "\u001b[2K   \u001b[90m━━━━━━━━━━━━━━━━━━━━━━━━━━━━━━━━━━━━━━━━\u001b[0m \u001b[32m116.3/116.3 kB\u001b[0m \u001b[31m5.4 MB/s\u001b[0m eta \u001b[36m0:00:00\u001b[0m\n",
      "\u001b[2K   \u001b[90m━━━━━━━━━━━━━━━━━━━━━━━━━━━━━━━━━━━━━━━━\u001b[0m \u001b[32m177.6/177.6 kB\u001b[0m \u001b[31m9.6 MB/s\u001b[0m eta \u001b[36m0:00:00\u001b[0m\n",
      "\u001b[2K   \u001b[90m━━━━━━━━━━━━━━━━━━━━━━━━━━━━━━━━━━━━━━━━\u001b[0m \u001b[32m143.5/143.5 kB\u001b[0m \u001b[31m8.4 MB/s\u001b[0m eta \u001b[36m0:00:00\u001b[0m\n",
      "\u001b[2K   \u001b[90m━━━━━━━━━━━━━━━━━━━━━━━━━━━━━━━━━━━━━━━━\u001b[0m \u001b[32m194.8/194.8 kB\u001b[0m \u001b[31m11.5 MB/s\u001b[0m eta \u001b[36m0:00:00\u001b[0m\n",
      "\u001b[?25h\u001b[31mERROR: pip's dependency resolver does not currently take into account all the packages that are installed. This behaviour is the source of the following dependency conflicts.\n",
      "gcsfs 2024.10.0 requires fsspec==2024.10.0, but you have fsspec 2024.6.1 which is incompatible.\u001b[0m\u001b[31m\n",
      "\u001b[0m"
     ]
    }
   ],
   "source": [
    "!pip install -qU happytransformer"
   ]
  },
  {
   "cell_type": "code",
   "execution_count": null,
   "metadata": {
    "colab": {
     "base_uri": "https://localhost:8080/",
     "height": 386,
     "referenced_widgets": [
      "1c11320f4933462798a74943b6f7af56",
      "c6d033aa109c4bb8bbd077fd0ea3511f",
      "0960864fbc5a45969807c27de7c3ce18",
      "c254eca331a4485b8b2f56530b1fce8a",
      "5f1c65dc7682426db1d75b31c619cbf7",
      "965e2b4d961446089b44447a4de78fb3",
      "ca69b70203c7476ea7aa6726c863361b",
      "74ce18ee260d40f587aa2b46982f4330",
      "2a0d6b9a030b4f998389f9969f4e2c65",
      "d2159476a54a4f058c5a512bbd4962a4",
      "919d714fc1274a8887466cd3e77abd8b",
      "909ff7ab6f60484293d0e564a521561c",
      "12fc8b07f88b41a88c72d0a5ddc01925",
      "6ac42d0e43d34e9687a21e37f5dde337",
      "ba5d67c6b5764569827fee3436aa2d2b",
      "aee9a75d675e4bafa72b8f796d3a2463",
      "ac5bedd191cc410e986f99a101758ff9",
      "f98daf38320c4a82bf35a349e2e332a8",
      "2090e89f74f24cd28207a43e62c5e189",
      "926dec651f204ec58a20e73788a78ee4",
      "62b286b71f9f42df88091b2dc0bfef3f",
      "e2a63c1c2fce47168faf9123d29a1940",
      "a443cfca3b3c46eba264b181b071e836",
      "617d7dc4a428443784923d6ffbcafef0",
      "12d03eb41961473d868d5798e4f48f14",
      "b5b2c144453e4788852d53fd43e97e22",
      "bcea74891ade4725a56aa3432da256f3",
      "4d99697374624229b590eb10648ac136",
      "f081cd2d59fb4e4d889672c7f3144d20",
      "f49fe1334ac2464eb6ebf64da4541341",
      "e59ea3cde7ff4f0a82dd76175a05e167",
      "3f05f215fbb74a5f9247df1463408d0e",
      "9ceaea018bb843549b32e4ceccb18a81",
      "1744ad266fd246d7990b8aba226017b4",
      "9289a01bf52046729e8d1fe53aa11637",
      "3fb2255954a04125a754765cb18565e8",
      "0b9782f02d03448cbd1882541701986b",
      "16bdc5792cee4f2aa5fc10ded19cda2c",
      "9e81135470994d08ab05522be41b4362",
      "8222635de8bd4c8ab69c826500797d36",
      "23b8e11e281b4c7daf63e31c513490f6",
      "94242cf0d8a94a149b82a759041b8cf6",
      "0fc9890975ff4b589063086ad2221908",
      "a0ae877f80264855bb66e0cafb159ceb",
      "62836ec99d5a470ba4cd6fb8e27565c8",
      "25bd06fbefe14c5fbad7bd442becfb42",
      "bf53e2090ccf4163bed6955ee7878673",
      "1b9f6603c66b49af9816a7b018c4adaa",
      "0c85c8772dfa4561a7a5947d24c46c1c",
      "0e3e171b0cef41d3b9057bb958a32ee6",
      "ee7832e6707947758b64933123568386",
      "398588051e6a4b80b7150d273c2c9211",
      "ac1b3ee5b0634b5d99ad930dace74628",
      "95af0a773cb54b5d800e75852f13f207",
      "7b0df44d81784ddbbc2317ee2ce2f79a",
      "8456c54291634546a61f41f7ef96ca9d",
      "21bc612d673f43c9952afaa83e4ac9f7",
      "7101d27834fd4563978fd6a8e4afecf4",
      "6c3a7a4dc7344eb19927abe3ba19d114",
      "91102c53294040e3bc1eaaf5e69921b4",
      "56cf69ec1e014613896eef0800d5e2b2",
      "e8aecbf25624480f8410f4456e05b4ab",
      "9ff99b2d07fa4feaba63e0fd503cb9a5",
      "36cc481ff377444798c67ea5db9012a9",
      "04f3e62e40e14878bd704777c5a2f7d1",
      "beebcfd26118460b872d440ad898fc98",
      "0fcfc620e0c743b2bc954bba677579a2",
      "1fbb16f011bc44cd8d4822266f9eedcd",
      "18e9068d7185491ba1fee56f2ae6812c",
      "52d93d91cf434de2844393977682a1b5",
      "ac3cfb1bdd73498884662a67751470d1",
      "d9472df840044201a6f7dd25b834aa2a",
      "64ed05f754cd4eebb47ef38f5e50ef41",
      "308ef0790b9b4ddcaf2408e1077b8262",
      "9526119291d24653a80ca23a6dd0e01e",
      "5b174331e7774087b48a11d287ee7439",
      "a02e5d3dd3b64eecada90de4289c3005",
      "80f4e64ec3c14c2a821dd2e0ab5e3dcb",
      "967f1689ac334494ac1e65bafa3db8f5",
      "b32ccca09f2943bba1fb1f82fc1e42cd",
      "d079050066804384b5960439545a4f8e",
      "f86cae01481e4bb695647b2961e725f2",
      "a1878f7dac854c0792a8b98d38bb6cf6",
      "9bc45727037a4c8bbb4e992e0c5154b0",
      "a2c2ab1e629b4995b908e6a6e2afe988",
      "449a34266388482b963e3696d0d6ac26",
      "c6258c9666d144f0b1da0759532a7047",
      "3e32b38211634f198a100d611ea44586",
      "592b7abd448e4ca8a4a4223061f73ad2",
      "05fa53abbda94a8eb1b545d567ce9d67",
      "3a7211e95bc54dfcae2c90167f00ed1e",
      "ddd77d132b644c64a77549b8e81ec978",
      "a0cf632a41c7402384f5f489f134c679",
      "4464dd24a5934b2b829de5e17f56dfd1",
      "3b4ac943e9bb4967869160e442bf06e1",
      "fd0a71c288ee48b483a52ddefb539b72",
      "67d0324e13a243ffa396b151d37ad84c",
      "abf3a80ea33c4f50ae1e756ffe1b498e",
      "6a49be03df304e8a81b4e7e7ab82a7ea",
      "3776bc60b2bc418eab1b82515fb236ea",
      "fa78f8a075314e3eb5125059be054e30",
      "bf7401c1811a460286e58e9967e9b652",
      "1efd1cf741a544a1828f2102db586c4a",
      "a37977d3d9bf47a2bd328c82e99e4c4e",
      "062dac90e25041b9bf4978694f15fd8e",
      "c55b4e11ed4f4f83b6a9918ad3659870",
      "3f4bcf14390e41c986cc0b7c284c43ea",
      "8e5e1824bddb4645ae2998f9a7d2c56c",
      "25691734f44341d1a1dcf519f99a9340",
      "7bd1b789f3484338af34f6a06f152986",
      "c24ce276ac8545be9ddf3bce35db0b8d",
      "40cee7c4de364bdc90d5ae1bc40aa4e8",
      "5772c5ef65974248bf0e6711935d1703",
      "a8324c18a9fe450dbfd5c4d652ecd516",
      "9bb745a1d85b4660a2f44c2bd78db85e",
      "2402e063fe574f298c59844ec5846ae1",
      "5b5aada23bcc4f8cbfbf10bb524a84f7",
      "7f9a092a67674a5994fb730cda308967",
      "1a205624eaec46aea04044c626ab4a06",
      "1d6761e2cb9d422a8389021adb0b7b47",
      "4baa237c8c32413485b59383fc789c7d"
     ]
    },
    "id": "LzBul39CW4VW",
    "outputId": "192611b0-e767-4c75-9d5f-37efdf9a6580"
   },
   "outputs": [
    {
     "data": {
      "application/vnd.jupyter.widget-view+json": {
       "model_id": "1c11320f4933462798a74943b6f7af56",
       "version_major": 2,
       "version_minor": 0
      },
      "text/plain": [
       "config.json:   0%|          | 0.00/797 [00:00<?, ?B/s]"
      ]
     },
     "metadata": {},
     "output_type": "display_data"
    },
    {
     "data": {
      "application/vnd.jupyter.widget-view+json": {
       "model_id": "909ff7ab6f60484293d0e564a521561c",
       "version_major": 2,
       "version_minor": 0
      },
      "text/plain": [
       "model.safetensors.index.json:   0%|          | 0.00/53.0k [00:00<?, ?B/s]"
      ]
     },
     "metadata": {},
     "output_type": "display_data"
    },
    {
     "data": {
      "application/vnd.jupyter.widget-view+json": {
       "model_id": "a443cfca3b3c46eba264b181b071e836",
       "version_major": 2,
       "version_minor": 0
      },
      "text/plain": [
       "Downloading shards:   0%|          | 0/3 [00:00<?, ?it/s]"
      ]
     },
     "metadata": {},
     "output_type": "display_data"
    },
    {
     "data": {
      "application/vnd.jupyter.widget-view+json": {
       "model_id": "1744ad266fd246d7990b8aba226017b4",
       "version_major": 2,
       "version_minor": 0
      },
      "text/plain": [
       "model-00001-of-00003.safetensors:   0%|          | 0.00/3.74G [00:00<?, ?B/s]"
      ]
     },
     "metadata": {},
     "output_type": "display_data"
    },
    {
     "data": {
      "application/vnd.jupyter.widget-view+json": {
       "model_id": "62836ec99d5a470ba4cd6fb8e27565c8",
       "version_major": 2,
       "version_minor": 0
      },
      "text/plain": [
       "model-00002-of-00003.safetensors:   0%|          | 0.00/3.98G [00:00<?, ?B/s]"
      ]
     },
     "metadata": {},
     "output_type": "display_data"
    },
    {
     "data": {
      "application/vnd.jupyter.widget-view+json": {
       "model_id": "8456c54291634546a61f41f7ef96ca9d",
       "version_major": 2,
       "version_minor": 0
      },
      "text/plain": [
       "model-00003-of-00003.safetensors:   0%|          | 0.00/3.95G [00:00<?, ?B/s]"
      ]
     },
     "metadata": {},
     "output_type": "display_data"
    },
    {
     "data": {
      "application/vnd.jupyter.widget-view+json": {
       "model_id": "0fcfc620e0c743b2bc954bba677579a2",
       "version_major": 2,
       "version_minor": 0
      },
      "text/plain": [
       "Loading checkpoint shards:   0%|          | 0/3 [00:00<?, ?it/s]"
      ]
     },
     "metadata": {},
     "output_type": "display_data"
    },
    {
     "data": {
      "application/vnd.jupyter.widget-view+json": {
       "model_id": "80f4e64ec3c14c2a821dd2e0ab5e3dcb",
       "version_major": 2,
       "version_minor": 0
      },
      "text/plain": [
       "tokenizer_config.json:   0%|          | 0.00/2.54k [00:00<?, ?B/s]"
      ]
     },
     "metadata": {},
     "output_type": "display_data"
    },
    {
     "data": {
      "application/vnd.jupyter.widget-view+json": {
       "model_id": "592b7abd448e4ca8a4a4223061f73ad2",
       "version_major": 2,
       "version_minor": 0
      },
      "text/plain": [
       "spiece.model:   0%|          | 0.00/792k [00:00<?, ?B/s]"
      ]
     },
     "metadata": {},
     "output_type": "display_data"
    },
    {
     "data": {
      "application/vnd.jupyter.widget-view+json": {
       "model_id": "3776bc60b2bc418eab1b82515fb236ea",
       "version_major": 2,
       "version_minor": 0
      },
      "text/plain": [
       "tokenizer.json:   0%|          | 0.00/2.42M [00:00<?, ?B/s]"
      ]
     },
     "metadata": {},
     "output_type": "display_data"
    },
    {
     "data": {
      "application/vnd.jupyter.widget-view+json": {
       "model_id": "c24ce276ac8545be9ddf3bce35db0b8d",
       "version_major": 2,
       "version_minor": 0
      },
      "text/plain": [
       "special_tokens_map.json:   0%|          | 0.00/2.20k [00:00<?, ?B/s]"
      ]
     },
     "metadata": {},
     "output_type": "display_data"
    },
    {
     "name": "stderr",
     "output_type": "stream",
     "text": [
      "Device set to use cpu\n"
     ]
    }
   ],
   "source": [
    "from transformers import pipeline\n",
    "\n",
    "pipe = pipeline(\"text2text-generation\", model=\"pszemraj/flan-t5-xl-grammar-synthesis\")"
   ]
  },
  {
   "cell_type": "code",
   "execution_count": null,
   "metadata": {
    "colab": {
     "base_uri": "https://localhost:8080/"
    },
    "id": "1boF2Fsu5t67",
    "outputId": "5c47612f-0f50-4c2c-8f93-f0093f2036d4"
   },
   "outputs": [
    {
     "name": "stdout",
     "output_type": "stream",
     "text": [
      "[{'generated_text': 'I went to school yesterday.'}]\n"
     ]
    }
   ],
   "source": [
    "raw_text = 'I yesterday went to school'\n",
    "results = pipe(raw_text)\n",
    "print(results)"
   ]
  },
  {
   "cell_type": "code",
   "execution_count": null,
   "metadata": {
    "colab": {
     "base_uri": "https://localhost:8080/",
     "height": 241,
     "referenced_widgets": [
      "1e5bf7ea20d84573be901c15812f6beb",
      "79cbfe5f335444db8a63c42665c90824",
      "65d10ecddeda4f589f80c1f77c7f4868",
      "89756e02fa274a82852590b44e831019",
      "9a8f80b63966401795706099ee654261",
      "6958a8f3b4ee4c57862c43f9ea24abe9",
      "a317439d83944712ac382c777a127c88",
      "73217d9ef61e446b9fed86c9ebf87ced",
      "65f41bd30a154b37be124eecc5540c85",
      "c516999febaf40ddb01d42aa4cdcbeb5",
      "e28f9eab3579448f924f4d51bda62eec",
      "c6108992b7dd4227b8a455773d48aaa2",
      "75c29657c2e54830a3434360fc85de3d",
      "e26e7436e4784391bbbb8173b77ab737",
      "d42fcb69ae6e4911ab61d4f539d24688",
      "3e32d0c9052c45e9b9f56e629f072204",
      "5314340c23084471affa754171f4c8b5",
      "7ac399fd2e7e45d69dfd357963600eaf",
      "6f061d309a0a46aa96ed670e849978de",
      "b327a8d8b86a42f9bc7acf68a7e9ee51",
      "a9de50c1312d4e1093ff852c56c4a20e",
      "9af3a39768364b7db9cfeea311e7f21d",
      "b2f9eab701a047a3be7d28ffda402f72",
      "cca63f4da8914779b300d2f8ad8f1464",
      "f7a511a5312e4bd59ae8856a5eb12113",
      "6a76d09d2d7d434dbfdc6fc3018d23b5",
      "313d8764a5bb4deab397a535093d3396",
      "0237d3ee9d7d4c85b00d23ea275e38b7",
      "b5178fa2f6ff45bb98890fdc2b48d3dd",
      "c45e70f84a2a4edc88dacf18d24edb20",
      "23f75a64d2494b7ca68a5195982ddb61",
      "df18c084d71a41dd9e6d9836ae5d9856",
      "9239bc579ffd477081f9871beb25aca6",
      "57bc239167394e5381337703f070732f",
      "f8c3b0bb23a14c3f94953aef6c77b4fe",
      "e3253012b2e44213b0e2d59746f8835f",
      "ae8251e3a3b849a2a6b9581d82bde76d",
      "4c87161631474b4da261a37a10359dc7",
      "4c9a565a78ef4f689b80d4cf2685c46a",
      "a46a5f015a4f47d8865e4b7fb96f9f49",
      "ae09bb94593a4d37aa08193163a39eb8",
      "6478e13b2aba467eb54b9ab3df843114",
      "4184b2d989814a3bb67aed49fa0bfd63",
      "2967bbc149454f68b9fe3305e3516dd4",
      "383c8de1e4ef44e6a1c9cf25d1786297",
      "f2a34c11327b4f80beb440222d38be67",
      "4db52244fdee46aa9914e9c0d74b7fd0",
      "3a96cc86833c4c18a61b3d0867644aef",
      "49970a741d364e308dab1f6df12a5769",
      "92005a9e475d447380a904830e586735",
      "3680d3753ee64e789d9ff4d6dd3967b2",
      "6a98fb158f3c4046bcaf962d2028b5e8",
      "ec6b7a68e41f47e9a9e828428b8c7370",
      "02c7927a2c5d4c1bbe942634787425e0",
      "600e451ada3a45878f29b3070861f334",
      "b97f1d5a730043769b744c1642601b37",
      "78bb42bd230c4c199bfe2030304daa19",
      "3075ec1f4e684f8eb71818c9dd679e99",
      "da8d08f79fdb4e99bb7a2a6ee35aff56",
      "44eca0803f774cecafacdb5c0c130ea9",
      "f09bf1165b154c71933bfc7d82efb8e6",
      "deb8d86bbf424878b5faf6bb1b485f4f",
      "e8e4a3bfed544ad999eebd12d698387f",
      "4224b79b4b124afc89409b2a589ad328",
      "ad9532473c00442da166e6675ead28ed",
      "0d55e9fe61ac4566ba7815352b23189c",
      "a53ed87f22954e8cae1a6bbfeb746961",
      "1a41547dcd8f475b9c1996dfb84bcfd5",
      "664b4096af18479fb15fc7d8f3124053",
      "2a537e0f615c45e49d3a39d608f23c04",
      "a3f0329928b44830afb67b68b8fe4649",
      "aad4031d492d40039f444fa2038c2d8b",
      "5fdfde917e9c4e2a95f4a81fa329281c",
      "79b5fdc6a68d4161a8656dcc3f79d6ae",
      "abca511a885b4e0baf791efcb77077cc",
      "13c06affbd7445568d479cf4a7d858a6",
      "a721465cde3c4a5d8c07f0c91321f51d"
     ]
    },
    "id": "lunpVTfME1mR",
    "outputId": "22d51f18-a8aa-48d0-fe99-51ae7da2a315"
   },
   "outputs": [
    {
     "data": {
      "application/vnd.jupyter.widget-view+json": {
       "model_id": "1e5bf7ea20d84573be901c15812f6beb",
       "version_major": 2,
       "version_minor": 0
      },
      "text/plain": [
       "config.json:   0%|          | 0.00/1.59k [00:00<?, ?B/s]"
      ]
     },
     "metadata": {},
     "output_type": "display_data"
    },
    {
     "data": {
      "application/vnd.jupyter.widget-view+json": {
       "model_id": "c6108992b7dd4227b8a455773d48aaa2",
       "version_major": 2,
       "version_minor": 0
      },
      "text/plain": [
       "model.safetensors:   0%|          | 0.00/121M [00:00<?, ?B/s]"
      ]
     },
     "metadata": {},
     "output_type": "display_data"
    },
    {
     "data": {
      "application/vnd.jupyter.widget-view+json": {
       "model_id": "b2f9eab701a047a3be7d28ffda402f72",
       "version_major": 2,
       "version_minor": 0
      },
      "text/plain": [
       "generation_config.json:   0%|          | 0.00/149 [00:00<?, ?B/s]"
      ]
     },
     "metadata": {},
     "output_type": "display_data"
    },
    {
     "data": {
      "application/vnd.jupyter.widget-view+json": {
       "model_id": "57bc239167394e5381337703f070732f",
       "version_major": 2,
       "version_minor": 0
      },
      "text/plain": [
       "tokenizer_config.json:   0%|          | 0.00/21.8k [00:00<?, ?B/s]"
      ]
     },
     "metadata": {},
     "output_type": "display_data"
    },
    {
     "data": {
      "application/vnd.jupyter.widget-view+json": {
       "model_id": "383c8de1e4ef44e6a1c9cf25d1786297",
       "version_major": 2,
       "version_minor": 0
      },
      "text/plain": [
       "spiece.model:   0%|          | 0.00/792k [00:00<?, ?B/s]"
      ]
     },
     "metadata": {},
     "output_type": "display_data"
    },
    {
     "data": {
      "application/vnd.jupyter.widget-view+json": {
       "model_id": "b97f1d5a730043769b744c1642601b37",
       "version_major": 2,
       "version_minor": 0
      },
      "text/plain": [
       "added_tokens.json:   0%|          | 0.00/2.69k [00:00<?, ?B/s]"
      ]
     },
     "metadata": {},
     "output_type": "display_data"
    },
    {
     "data": {
      "application/vnd.jupyter.widget-view+json": {
       "model_id": "a53ed87f22954e8cae1a6bbfeb746961",
       "version_major": 2,
       "version_minor": 0
      },
      "text/plain": [
       "special_tokens_map.json:   0%|          | 0.00/2.67k [00:00<?, ?B/s]"
      ]
     },
     "metadata": {},
     "output_type": "display_data"
    }
   ],
   "source": [
    "from transformers import T5Tokenizer, T5ForConditionalGeneration\n",
    "import torch\n",
    "\n",
    "device = \"cuda\" if torch.cuda.is_available() else \"cpu\"\n",
    "\n",
    "model_name = \"AventIQ-AI/t5-small-grammar-correction\"\n",
    "model = T5ForConditionalGeneration.from_pretrained(model_name).to(device)\n",
    "tokenizer = T5Tokenizer.from_pretrained(model_name)\n"
   ]
  },
  {
   "cell_type": "code",
   "execution_count": null,
   "metadata": {
    "colab": {
     "base_uri": "https://localhost:8080/"
    },
    "id": "hQFPGWg-FFVp",
    "outputId": "21da344b-74e5-4357-e342-ead7eaf09106"
   },
   "outputs": [
    {
     "name": "stdout",
     "output_type": "stream",
     "text": [
      "Original: He go to the store yesterday.\n",
      "Corrected: He went to the store yesterday.\n",
      "---\n",
      "Original: They was running in the park.\n",
      "Corrected: They were running in the park.\n",
      "---\n",
      "Original: She dont like pizza.\n",
      "Corrected: She doesn't like pizza.\n",
      "---\n",
      "Original: We has completed the project already.\n",
      "Corrected: We have completed the project already.\n",
      "---\n"
     ]
    }
   ],
   "source": [
    "def correct_grammar(text, model, tokenizer, device):\n",
    "    prefix = \"correct grammar: \"\n",
    "    input_text = prefix + text\n",
    "    input_ids = tokenizer(input_text, return_tensors=\"pt\").input_ids.to(device)\n",
    "    outputs = model.generate(\n",
    "        input_ids,\n",
    "        max_length=128,\n",
    "        num_beams=5,\n",
    "        early_stopping=True,\n",
    "    )\n",
    "    corrected_text = tokenizer.decode(outputs[0], skip_special_tokens=True)\n",
    "    return corrected_text\n",
    "\n",
    "test_sentences = [\n",
    "    \"He go to the store yesterday.\",\n",
    "    \"They was running in the park.\",\n",
    "    \"She dont like pizza.\",\n",
    "    \"We has completed the project already.\",\n",
    "]\n",
    "for sentence in test_sentences:\n",
    "    corrected = correct_grammar(sentence, model, tokenizer, device)\n",
    "    print(f\"Original: {sentence}\")\n",
    "    print(f\"Corrected: {corrected}\")\n",
    "    print(\"---\")\n"
   ]
  },
  {
   "cell_type": "code",
   "execution_count": null,
   "metadata": {
    "colab": {
     "base_uri": "https://localhost:8080/",
     "height": 258,
     "referenced_widgets": [
      "7363b52478d64a86a771c09eb16e155a",
      "2367df04fe6444e6a220420b17fad458",
      "f211c48c23ff4098b56c3f7bc3c8b13c",
      "02cd4c221e684919a151b264b7ace355",
      "1883800c749541548348155713a429c4",
      "ac68a0c990f040b990a3fe1c1aa8b6b0",
      "2e35c4f333a64c6388872b8cca4ef78c",
      "536c23f624454b9ab09b5d2706a8b5a9",
      "1e5127cad69f41428840eeb68de3f65f",
      "b4c1df44d3d54b2cb8ca04f36f29f4f7",
      "a2768d54cdc349ddbba5b32c0e97f6d6",
      "cc4f5ce375b4435399cbf19a203a9487",
      "18debee32c1740929bae40e5da599e1c",
      "70a8e18f5ef84cd4b21e5cef07c09e4d",
      "733940dc89fc41a78f29c538e615318c",
      "16e36f1ea797402bb8da307b24d54b79",
      "3e585601a364480aa869a5c28522cae8",
      "45eb39ca9ad2431584d7413973946da4",
      "046d5469f7fd4a78a89f6f031eda7346",
      "eac01d387c974d4087b53b01eafe7dc3",
      "646494b3386d4b2d97caf53521831907",
      "a2fa0aee5d5945c5b969f0f74dc58a09",
      "5cb7718386594d7390ad62ef7206748e",
      "c3d316163f2b465f8835792fa13e89cc",
      "05b698356d334f09bc4bc174c8d82bb0",
      "25c658929f5242e4b78bd7412fa9eb0b",
      "afafcbe3414e4bf7979ef09b185f0d43",
      "7b22487571e94b699d792807f6adc5d3",
      "ddc50b89a3734ce1abf6f76b4d32a845",
      "22b50a1e8b3d450589f441c23835476f",
      "e5a5a017c3c54e4a83f50fed68e4eb3b",
      "c9f822ea6d304a968420397fc927db0c",
      "6ff66887ffe745e9b1bf72bb9d5b4744",
      "5b43e300ca4d4969bbe63c5fc3534345",
      "3f240ae5b17c46cfbd8cc4e4878cb377",
      "c443fc9106a442acb3ac4b8984b78d6d",
      "59bcc93a396846baacd711082c0e7be5",
      "49b3de275dc94d589e215f001d87cff7",
      "539804e044304d149029b622e28a5ebf",
      "99afe884c4f445c6ab8d4405b22290a1",
      "3f3ea2ef150e42aeb8a9f80a6f9249e9",
      "60bdf8192a9c407c85407a9fd661f71d",
      "8f66b77727ed425f8d5233d385bd7d1b",
      "866844b8a6f74ae6acd4968d2f50ef86",
      "0a21a4bf369d4736b48c957f6bbb3926",
      "97beed913d3d48808e3b065b6624b656",
      "c1773ae63cf84ac8878ccd79cdc2fe43",
      "73f0d0b9d9e44763a7d8e30b577787d0",
      "2507e4e04d1b4e6d8b4c69745516f3a0",
      "5f0828abcab242ac8bd2d4e0ca25e238",
      "51ce62ad6be2457dad5cebb716df7f6c",
      "54a1509220a0445f854c4afbe58927a3",
      "f71db5a424824c45a8a345c6bb987bb1",
      "35537734aa484c2ca0e517f0631901ae",
      "f086a0d9efc2442baf1eefbd4975697b",
      "4b640915a15b4973ae49ba6664716868",
      "5c533f05f8b9447e8b57943e499d9125",
      "d85f3ac6e5a040deb81c0f5643a98d32",
      "15f45069f0cd4c9f82887513748a3e72",
      "bdb90b1c4e194a6c815a4e89f4e3e3e5",
      "f0300d05697549fcb0faf69b6d2f33da",
      "db382ddd2d4540acb6ef4cfcf331aceb",
      "dd59f1aa37944cd58d1d5bcb9d8418ba",
      "ded37bf856504d73b8a83dc8d5f809d9",
      "7ceb1bb07fbd41c58cf7ecbc43ef4c2a",
      "b467b18458184ccf8183dde2e930e69b",
      "8dd4acc41ebc4b7a81932c784df96d96",
      "308372425c684e1da4752c1ceda1c867",
      "e10a74eef4014ecb9666dc6a1054171f",
      "516b9661be8b422e9a389a6ee8b3f5df",
      "6ffb41e317bd43acadc267b63cda96fd",
      "b64054043d5b4e8383040c431b885def",
      "a67d70db674847678f5a33da91f23610",
      "aad8bbcb499f436f8710a6badb143864",
      "a57a27ad96954c088aeda39e549c6376",
      "3c4de434b67840d8bb8703d663218c52",
      "2212c1bb6edc416dab9a4e7e4857efde"
     ]
    },
    "id": "sJN25uRQF1BA",
    "outputId": "d988cedd-f3b9-4610-ddd4-f1c3d8acf9be"
   },
   "outputs": [
    {
     "data": {
      "application/vnd.jupyter.widget-view+json": {
       "model_id": "7363b52478d64a86a771c09eb16e155a",
       "version_major": 2,
       "version_minor": 0
      },
      "text/plain": [
       "config.json:   0%|          | 0.00/787 [00:00<?, ?B/s]"
      ]
     },
     "metadata": {},
     "output_type": "display_data"
    },
    {
     "data": {
      "application/vnd.jupyter.widget-view+json": {
       "model_id": "cc4f5ce375b4435399cbf19a203a9487",
       "version_major": 2,
       "version_minor": 0
      },
      "text/plain": [
       "model.safetensors:   0%|          | 0.00/3.13G [00:00<?, ?B/s]"
      ]
     },
     "metadata": {},
     "output_type": "display_data"
    },
    {
     "data": {
      "application/vnd.jupyter.widget-view+json": {
       "model_id": "5cb7718386594d7390ad62ef7206748e",
       "version_major": 2,
       "version_minor": 0
      },
      "text/plain": [
       "generation_config.json:   0%|          | 0.00/142 [00:00<?, ?B/s]"
      ]
     },
     "metadata": {},
     "output_type": "display_data"
    },
    {
     "data": {
      "application/vnd.jupyter.widget-view+json": {
       "model_id": "5b43e300ca4d4969bbe63c5fc3534345",
       "version_major": 2,
       "version_minor": 0
      },
      "text/plain": [
       "tokenizer_config.json:   0%|          | 0.00/2.50k [00:00<?, ?B/s]"
      ]
     },
     "metadata": {},
     "output_type": "display_data"
    },
    {
     "data": {
      "application/vnd.jupyter.widget-view+json": {
       "model_id": "0a21a4bf369d4736b48c957f6bbb3926",
       "version_major": 2,
       "version_minor": 0
      },
      "text/plain": [
       "spiece.model:   0%|          | 0.00/792k [00:00<?, ?B/s]"
      ]
     },
     "metadata": {},
     "output_type": "display_data"
    },
    {
     "data": {
      "application/vnd.jupyter.widget-view+json": {
       "model_id": "4b640915a15b4973ae49ba6664716868",
       "version_major": 2,
       "version_minor": 0
      },
      "text/plain": [
       "tokenizer.json:   0%|          | 0.00/2.42M [00:00<?, ?B/s]"
      ]
     },
     "metadata": {},
     "output_type": "display_data"
    },
    {
     "data": {
      "application/vnd.jupyter.widget-view+json": {
       "model_id": "8dd4acc41ebc4b7a81932c784df96d96",
       "version_major": 2,
       "version_minor": 0
      },
      "text/plain": [
       "special_tokens_map.json:   0%|          | 0.00/2.20k [00:00<?, ?B/s]"
      ]
     },
     "metadata": {},
     "output_type": "display_data"
    },
    {
     "name": "stderr",
     "output_type": "stream",
     "text": [
      "Device set to use cpu\n"
     ]
    }
   ],
   "source": [
    "from transformers import pipeline\n",
    "\n",
    "pipe = pipeline(\"text2text-generation\", model=\"grammarly/coedit-large\")"
   ]
  },
  {
   "cell_type": "code",
   "execution_count": null,
   "metadata": {
    "colab": {
     "base_uri": "https://localhost:8080/"
    },
    "id": "aA42NYrPGrPR",
    "outputId": "2f647088-b054-47a0-d1d2-a4ff67c0e69b"
   },
   "outputs": [
    {
     "name": "stdout",
     "output_type": "stream",
     "text": [
      "[{'generated_text': 'When I grow up, I will start to understand what he said is quite right.'}]\n"
     ]
    }
   ],
   "source": [
    "raw_text = 'Fix the grammar: When I grow up, I start to understand what he said is quite right.'\n",
    "results = pipe(raw_text)\n",
    "print(results)"
   ]
  }
 ],
 "metadata": {
  "colab": {
   "provenance": []
  },
  "kernelspec": {
   "display_name": "Python 3 (ipykernel)",
   "language": "python",
   "name": "python3"
  },
  "language_info": {
   "codemirror_mode": {
    "name": "ipython",
    "version": 3
   },
   "file_extension": ".py",
   "mimetype": "text/x-python",
   "name": "python",
   "nbconvert_exporter": "python",
   "pygments_lexer": "ipython3",
   "version": "3.11.5"
  },
  "widgets": {
   "application/vnd.jupyter.widget-state+json": {
    "state": {},
    "version_major": 2,
    "version_minor": 0
   }
  }
 },
 "nbformat": 4,
 "nbformat_minor": 4
}
