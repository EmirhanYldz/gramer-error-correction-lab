{
 "cells": [
  {
   "cell_type": "code",
   "execution_count": null,
   "metadata": {
    "colab": {
     "base_uri": "https://localhost:8080/"
    },
    "id": "ewq-nY0VOzGN",
    "outputId": "547e0e1e-dc61-4056-8f19-ebfd1acb9b01"
   },
   "outputs": [
    {
     "name": "stdout",
     "output_type": "stream",
     "text": [
      "\u001b[?25l   \u001b[90m━━━━━━━━━━━━━━━━━━━━━━━━━━━━━━━━━━━━━━━━\u001b[0m \u001b[32m0.0/487.4 kB\u001b[0m \u001b[31m?\u001b[0m eta \u001b[36m-:--:--\u001b[0m\r",
      "\u001b[2K   \u001b[90m━━━━━━━━━━━━━━━━━━━━━━━━━━━━━━━━━━━━━━━━\u001b[0m \u001b[32m487.4/487.4 kB\u001b[0m \u001b[31m31.8 MB/s\u001b[0m eta \u001b[36m0:00:00\u001b[0m\n",
      "\u001b[?25h\u001b[?25l   \u001b[90m━━━━━━━━━━━━━━━━━━━━━━━━━━━━━━━━━━━━━━━━\u001b[0m \u001b[32m0.0/116.3 kB\u001b[0m \u001b[31m?\u001b[0m eta \u001b[36m-:--:--\u001b[0m\r",
      "\u001b[2K   \u001b[90m━━━━━━━━━━━━━━━━━━━━━━━━━━━━━━━━━━━━━━━━\u001b[0m \u001b[32m116.3/116.3 kB\u001b[0m \u001b[31m10.1 MB/s\u001b[0m eta \u001b[36m0:00:00\u001b[0m\n",
      "\u001b[?25h\u001b[?25l   \u001b[90m━━━━━━━━━━━━━━━━━━━━━━━━━━━━━━━━━━━━━━━━\u001b[0m \u001b[32m0.0/143.5 kB\u001b[0m \u001b[31m?\u001b[0m eta \u001b[36m-:--:--\u001b[0m\r",
      "\u001b[2K   \u001b[90m━━━━━━━━━━━━━━━━━━━━━━━━━━━━━━━━━━━━━━━━\u001b[0m \u001b[32m143.5/143.5 kB\u001b[0m \u001b[31m13.6 MB/s\u001b[0m eta \u001b[36m0:00:00\u001b[0m\n",
      "\u001b[2K   \u001b[90m━━━━━━━━━━━━━━━━━━━━━━━━━━━━━━━━━━━━━━━━\u001b[0m \u001b[32m194.8/194.8 kB\u001b[0m \u001b[31m18.0 MB/s\u001b[0m eta \u001b[36m0:00:00\u001b[0m\n",
      "\u001b[2K     \u001b[90m━━━━━━━━━━━━━━━━━━━━━━━━━━━━━━━━━━━━━━━━\u001b[0m \u001b[32m44.0/44.0 kB\u001b[0m \u001b[31m3.7 MB/s\u001b[0m eta \u001b[36m0:00:00\u001b[0m\n",
      "\u001b[2K   \u001b[90m━━━━━━━━━━━━━━━━━━━━━━━━━━━━━━━━━━━━━━━━\u001b[0m \u001b[32m10.0/10.0 MB\u001b[0m \u001b[31m116.8 MB/s\u001b[0m eta \u001b[36m0:00:00\u001b[0m\n",
      "\u001b[?25h"
     ]
    }
   ],
   "source": [
    "!pip install -qU datasets\n",
    "!pip install -qU transformers"
   ]
  },
  {
   "cell_type": "code",
   "execution_count": null,
   "metadata": {
    "colab": {
     "base_uri": "https://localhost:8080/",
     "height": 397,
     "referenced_widgets": [
      "9799d4c8e62b45bf9b2dbd46a4a58b69",
      "9ca6532565034d529e4c9b6dc212ae48",
      "ce202fa4122e42b6b7ac53e33caf93c6",
      "0f509837cda84c9daaa3a113850b2ba1",
      "ebf3c1f3c1a8450f9fad887fa34ec98c",
      "feb52473f1244f5887a30176e6aa9daa",
      "d961474309d547749eea0dbcf69bb1b9",
      "b8adb819f5fa4a80bccd4e2e6ef3cf44",
      "3405e0cc71db46ac9ecb4b935478b9d0",
      "de8d7a76920544f58d51ab7672f5dbe4",
      "39f53e3ff1104d66900e63516d8583af",
      "43119e39adf146e5b70ffe5846bf8993",
      "edd4113017ab4588ba042bc30e8803f1",
      "68fa351dd06c429480acbd4851dab31a",
      "57520263469a4ff9a54c55e8a5c48829",
      "1006ed81afa04d86b83300bb22440992",
      "95f5510ab41c4760b1ae767c15c2f1cb",
      "03222969e6584af5b5ca545f0d61e01f",
      "57594ea0f4c340cdb6dc776a3c7cab68",
      "20d516ed05804257aab0b0ca58c02673",
      "88fead4772074a0d99d9ac1988c33ddb",
      "0e7ebdca059d43ff8c81453c3969356a",
      "0bed0e816e1d49b58299fb426daa257b",
      "3855d2b878cd44b5afc52a30e269f983",
      "5d88c9f3de2e474c92e44fca9489b409",
      "83963d964f1742119609971fa33c3118",
      "c3208884709a44ae9a1a49a1432850b7",
      "01797834121748419f6ace1f49011bfa",
      "cae919156c6a426caf9d5ba4f70492b9",
      "2311239b4b684565a3e09c5149a98218",
      "96666e44152d40b6b4f0ce469e0d3b95",
      "1fb28f092a584ac1be25217539985361",
      "85fc4e03b54f466b914e82f28f16546d",
      "61b9645a9b28405d88f726765d5c6af4",
      "234f51c1e068466c8788f30652922880",
      "2bead52665a74db5b8c64b3077cefc27",
      "3806193f21184c55989c02459d969bde",
      "5c8ca76a3fbd457080a0baf64e0b30ef",
      "d9ad4b5d21b7434db231361838ab413d",
      "e7ce718e61c449608e1c81f47f901d52",
      "59f690317bfa47b88def656525278dc6",
      "0d6a5a54f93e4779a86db34ea7f84076",
      "994965a5fc414791ba095b42859779ef",
      "73638512d1a74138aa57a13e6c545c11",
      "abf5b3ce6f0f4f8faa881cac7d751738",
      "00bd9d02655945dd971c39e9aadb8172",
      "b019d412e8de4ffab674829fe3254787",
      "30853090a0574a93b9db4ba27860e0fb",
      "e5b0aae853514000975325b745207f7d",
      "3c451d0152b0403e9725a3041991ba0c",
      "d3b58c2739a2460691680e842d0207c7",
      "296e5f3cd2554a3cb2a425a68b3b64c8",
      "c79e69fd051240679064b2dd2e2146b3",
      "dd1cae285e2c4f3798ff246f822047c8",
      "aafdcd6e582440db99defecc0337a835",
      "b05ea67948a04582ab5f54fc1e859eec",
      "ff608f439cb74898b05e99bf5c973d18",
      "33511f3672ed465bae4ef2d46bc51a2e",
      "0c9a020e7ed544ad949f7181f8f7159f",
      "fd13b13b7743431db93bf469678f0ed8",
      "007b3ecc821d4b618e2199008eb91e6d",
      "8b11ec65704144e7823e417cd2e81efb",
      "2c4472edcdb9414a9c9b63dc9a5c2ba1",
      "7e2a3c400ddb46c2bcad800c4677e5cc",
      "e6d623b73689405ea79f17ec362b8ebb",
      "2147118d02c24846b7e3f0f2664ef8ce",
      "89aec228f0bf47298badd2ba85c6a4bc",
      "48e52de3ce3e47bb822e6bea7262ce97",
      "b5e5d40577ed4f96b04ae3af07cd7088",
      "d02aad895db4409b8b6801aa88e5bf28",
      "3ae658b0a260408c8e5a7c0b69f2e42f",
      "4998f571dae043f48efd3d04e165dfda",
      "f8efd1c466c84975aba089e6a975cbde",
      "1e78dc9382a642b686eaac018edc621a",
      "9d7033fbcad445b281fb70886e5dfee9",
      "58eaa711aaf24af198ce6716d33ab455",
      "0f726ff77f9c45fcaee4e5fddfe9aa1d",
      "abca5f5c8775471dba6b2723e468a600",
      "714d0cbf324849c59d51322e6d281098",
      "4ad46156c0b54b308ee3c4d04a6c969d",
      "af80eca9cd8b4f48914e64903be15c5c",
      "c3cd1a44a40d4d63bae809cfbde69d03",
      "c27f072865f64835b3b439edffb9b603",
      "e7c079163fd44814af11b10a0cab8c57",
      "9e16aadc793147cab364f0a5f58decbc",
      "4babe5be62454ed380f945ad83774ddb",
      "19b745d62d5d4e809958710162525936",
      "8b3d8b597fa14e21b66efb39cb9c4e74"
     ]
    },
    "id": "kNSlaPyPOuN9",
    "outputId": "4354e48c-7d04-4a14-80e0-a3d7af299566"
   },
   "outputs": [
    {
     "name": "stderr",
     "output_type": "stream",
     "text": [
      "/usr/local/lib/python3.11/dist-packages/huggingface_hub/utils/_auth.py:94: UserWarning: \n",
      "The secret `HF_TOKEN` does not exist in your Colab secrets.\n",
      "To authenticate with the Hugging Face Hub, create a token in your settings tab (https://huggingface.co/settings/tokens), set it as secret in your Google Colab and restart your session.\n",
      "You will be able to reuse this secret in all of your notebooks.\n",
      "Please note that authentication is recommended but still optional to access public models or datasets.\n",
      "  warnings.warn(\n"
     ]
    },
    {
     "data": {
      "application/vnd.jupyter.widget-view+json": {
       "model_id": "9799d4c8e62b45bf9b2dbd46a4a58b69",
       "version_major": 2,
       "version_minor": 0
      },
      "text/plain": [
       "README.md:   0%|          | 0.00/540 [00:00<?, ?B/s]"
      ]
     },
     "metadata": {},
     "output_type": "display_data"
    },
    {
     "data": {
      "application/vnd.jupyter.widget-view+json": {
       "model_id": "43119e39adf146e5b70ffe5846bf8993",
       "version_major": 2,
       "version_minor": 0
      },
      "text/plain": [
       "clc_fce.py:   0%|          | 0.00/5.20k [00:00<?, ?B/s]"
      ]
     },
     "metadata": {},
     "output_type": "display_data"
    },
    {
     "data": {
      "application/vnd.jupyter.widget-view+json": {
       "model_id": "0bed0e816e1d49b58299fb426daa257b",
       "version_major": 2,
       "version_minor": 0
      },
      "text/plain": [
       "0000.parquet:   0%|          | 0.00/2.57M [00:00<?, ?B/s]"
      ]
     },
     "metadata": {},
     "output_type": "display_data"
    },
    {
     "data": {
      "application/vnd.jupyter.widget-view+json": {
       "model_id": "61b9645a9b28405d88f726765d5c6af4",
       "version_major": 2,
       "version_minor": 0
      },
      "text/plain": [
       "0000.parquet:   0%|          | 0.00/211k [00:00<?, ?B/s]"
      ]
     },
     "metadata": {},
     "output_type": "display_data"
    },
    {
     "data": {
      "application/vnd.jupyter.widget-view+json": {
       "model_id": "abf5b3ce6f0f4f8faa881cac7d751738",
       "version_major": 2,
       "version_minor": 0
      },
      "text/plain": [
       "0000.parquet:   0%|          | 0.00/244k [00:00<?, ?B/s]"
      ]
     },
     "metadata": {},
     "output_type": "display_data"
    },
    {
     "data": {
      "application/vnd.jupyter.widget-view+json": {
       "model_id": "b05ea67948a04582ab5f54fc1e859eec",
       "version_major": 2,
       "version_minor": 0
      },
      "text/plain": [
       "Generating train split:   0%|          | 0/28350 [00:00<?, ? examples/s]"
      ]
     },
     "metadata": {},
     "output_type": "display_data"
    },
    {
     "data": {
      "application/vnd.jupyter.widget-view+json": {
       "model_id": "89aec228f0bf47298badd2ba85c6a4bc",
       "version_major": 2,
       "version_minor": 0
      },
      "text/plain": [
       "Generating validation split:   0%|          | 0/2191 [00:00<?, ? examples/s]"
      ]
     },
     "metadata": {},
     "output_type": "display_data"
    },
    {
     "data": {
      "application/vnd.jupyter.widget-view+json": {
       "model_id": "abca5f5c8775471dba6b2723e468a600",
       "version_major": 2,
       "version_minor": 0
      },
      "text/plain": [
       "Generating test split:   0%|          | 0/2695 [00:00<?, ? examples/s]"
      ]
     },
     "metadata": {},
     "output_type": "display_data"
    }
   ],
   "source": [
    "from datasets import load_dataset\n",
    "\n",
    "dataset = load_dataset(\"matejklemen/clc_fce\")"
   ]
  },
  {
   "cell_type": "code",
   "execution_count": null,
   "metadata": {
    "id": "GJ1kRzalPT0s"
   },
   "outputs": [],
   "source": [
    "train_dataset = dataset['train']\n",
    "test_dataset = dataset['test']\n",
    "val_dataset = dataset['validation']"
   ]
  },
  {
   "cell_type": "code",
   "execution_count": null,
   "metadata": {
    "colab": {
     "base_uri": "https://localhost:8080/",
     "height": 113,
     "referenced_widgets": [
      "7dcb35975ac04b42989f75f998306cab",
      "dc07b4ce833b4afcb9486a3c535747fe",
      "d188e6644e2d4a7db5e9daf6c9be7367",
      "0021f81a487d43efb6970354a78a8f1b",
      "d7bd574865d54dab81b423cbd12ac0be",
      "01ea0536169247218fe6f1d23116852f",
      "7c7796b84fe5451a9e56a74d77a9f940",
      "66643dd364ed4d83a52cbb7171c7cd5e",
      "abb9d036e29c4b328eda7eb6785286bd",
      "6d3e6a28736744e3b3602810872c3212",
      "c0f499b2b3074c9a8bac90fab1f2a62f",
      "c402abfa76cc42e0ab73fa9c60e33634",
      "9eae22ceb20a4bb5bf225a7b737a22d4",
      "94b23a257f0a43298df2b1b1ff42fed5",
      "4bf8bf0cd7e3411a954cfd530910e488",
      "e6c91525bc2741a680653d957c422c07",
      "183b30f234484072893764addf3ac20a",
      "21cda85757664f27aeceb3c86e3314c0",
      "c191ae8336c34033a7a09811e6d84aa4",
      "1eac67414c8340b294b1cc70833c5122",
      "7c95df541751428a9fe2b6a3333a4356",
      "846a2f2289f6412d84b9222422991674",
      "19b861894ee946f68d07fb5f79b64628",
      "382c588376f24ee396049938ae354f48",
      "e4754055b9824d97a976711d7f0162f7",
      "c2467f404aaf4271abcfb62f1eb28d84",
      "eba9a2f0ed7449948035edea7f2ffd90",
      "6160c7b4e6aa4074869ec5ddb8ca6778",
      "03f7c4fb94634807ba6ff8811df2e56c",
      "4210dc75a08c4b20a51a763a483b596b",
      "8421471c9c6645699ad0306092f08342",
      "d278f5c48d0e4dbc81185679d39e8d66",
      "e9ab4a8884d249a48059fdbd7a4fcf5b"
     ]
    },
    "id": "qrK4ibH_SzU7",
    "outputId": "73fa508d-97ce-4299-995f-d37b08eb6425"
   },
   "outputs": [
    {
     "data": {
      "application/vnd.jupyter.widget-view+json": {
       "model_id": "7dcb35975ac04b42989f75f998306cab",
       "version_major": 2,
       "version_minor": 0
      },
      "text/plain": [
       "Map:   0%|          | 0/28350 [00:00<?, ? examples/s]"
      ]
     },
     "metadata": {},
     "output_type": "display_data"
    },
    {
     "data": {
      "application/vnd.jupyter.widget-view+json": {
       "model_id": "c402abfa76cc42e0ab73fa9c60e33634",
       "version_major": 2,
       "version_minor": 0
      },
      "text/plain": [
       "Map:   0%|          | 0/2191 [00:00<?, ? examples/s]"
      ]
     },
     "metadata": {},
     "output_type": "display_data"
    },
    {
     "data": {
      "application/vnd.jupyter.widget-view+json": {
       "model_id": "19b861894ee946f68d07fb5f79b64628",
       "version_major": 2,
       "version_minor": 0
      },
      "text/plain": [
       "Map:   0%|          | 0/2695 [00:00<?, ? examples/s]"
      ]
     },
     "metadata": {},
     "output_type": "display_data"
    }
   ],
   "source": [
    "def tokens_to_text(tokens):\n",
    "    return \" \".join(tokens)\n",
    "\n",
    "def preprocess_data(examples):\n",
    "    inputs = [tokens_to_text(tokens) for tokens in examples[\"src_tokens\"]]\n",
    "    targets = [tokens_to_text(tokens) for tokens in examples[\"tgt_tokens\"]]\n",
    "    return {\"input\": inputs, \"target\": targets}\n",
    "\n",
    "processed_dataset = dataset.map(preprocess_data, batched=True)"
   ]
  },
  {
   "cell_type": "code",
   "execution_count": null,
   "metadata": {
    "colab": {
     "base_uri": "https://localhost:8080/",
     "height": 278,
     "referenced_widgets": [
      "efb885e0c94940419bb57b3c7bc5fb6b",
      "d77ca839e8994422a9f7275bb5e8ccb3",
      "bab2e0b8b12c45c88131153f31ca554f",
      "f88f4502f74243d188f6cb2a61a69cf7",
      "db56840d0ddf473b923c075ab877f663",
      "ba742bc4e0ff444ebd094248d839e091",
      "fa4d289a78ec4e76b9b409116790dd7f",
      "073eb45676b24a1a9c5b1951131e5128",
      "4b35b477b3c743faabe1ab9f546880a3",
      "f15a2a8f4db94d25971be340179265aa",
      "b83cb19d5b0442edbd1c1d8176485fa9",
      "6fa69bdc35884e379715858164dad687",
      "2dfcc03ca8b5450ca8dc4e0a732f3a9e",
      "fdba94eaabda4406a5a9ec2d83975cee",
      "04e01531e7ac4e81b879e56cb2cb3fd0",
      "507d398015ef47859436c8df7c72327a",
      "1ffb063612774e09b89a11710810fb51",
      "fa8f0e28eaf74362960fcf3b0acc7639",
      "9454e3aa1b9447bc8d940447479acfd0",
      "ae0297d6535843e98745d692146673f1",
      "4e22a83e76fc442c8a4826b9112538d3",
      "2a3716fef6a84511b7f4a13be2188290",
      "3b23a236c1af4257b163d0ded8e983f5",
      "dacdecc2c4484995a6e7cf818877328e",
      "a7573e8024ff498aa758248b8fcddf59",
      "3d749bea67284544b18fa7132df3e1af",
      "960d3f2029314318a7e6d48cd1f42712",
      "40e63e8ed797479381b7281ecadbfa5f",
      "a8d7f7c4d17d45ddbfbff35c82be1a38",
      "08e67ffcbe5f4935bc3ac352e98c80ec",
      "e3a0d3c1071c4717882feb4a50362947",
      "9b641acd57c34c70a513051c61d0eeb0",
      "aaf7d4dd5cc8402ab72d851186a114de",
      "0267cee2ce6e4acd99ffd8619cbece40",
      "31ada2753a5943fb9cb3cd1b456f39da",
      "b694808ff73943018377b6133cbbb823",
      "57ff2fea0b40425691ce34fa7ef45181",
      "9a4f79abcc8b4230aa7c87849335c9ae",
      "6f411e4f638642f181dee46522017ddb",
      "81b79658b21d46558c506036e489b9de",
      "961f322d40874337ab518b2c4b1c26de",
      "18cf20813da34e788337980d23cfce61",
      "78c49290e8d04acf9e4f8db4e45d9c30",
      "5cdbf8277b364d0eb7ae41ab3003dd0c",
      "43f34ab924204dc2b476986c4f879492",
      "5470ed28ed3f4c188ab96807cd1a8669",
      "466e68478f474d10b136248c65d527bb",
      "27720268fe3a41c3b598c565c4998fa9",
      "2610a4d7b0034418ba943ba5c3421cc2",
      "3f40b5a9b10b49e5a040445950bc491e",
      "ff11f8741e014ef9b323998e12aecd77",
      "cf5958d8bbfe49c08781ab84fcaf8cfb",
      "7949af58e57c42b8a3489cc948e30510",
      "fcf4828fb58641a885f37490ec4545b6",
      "8bf6f4efb929495da49397c51beab392",
      "562fd37b03294e33bd80662521e89270",
      "162cfed4dd2345c1bcd48bc7bddf064b",
      "b2b672fde38748f5bf28e894bf44d97d",
      "a4711b0fe6fa4e90a815d70ef11bc95f",
      "0a1b58b2f36f4663be772d1658a4642b",
      "d99b8a7226b2400f893f57c2117f0041",
      "ca1f38f408a9424086481b1241a32ad6",
      "0a28d2cee9874b54a0f4b2ebafbde4d1",
      "a9ca0598385b4a04916cbf7afa902e59",
      "03ce24243ccc457c9cb16a43795e9e87",
      "14a5a1d88c8640df97c814255dfdf85b",
      "e532a32ea98a4870b584eef6b7f2c6ec",
      "b1de20d68de942648442e414e7f60c0e",
      "65a8fe8b5b634f33b6f6d55ad321c77f",
      "65b51bf41f534e3e98e72e86a3c77923",
      "6f28407284eb4559a79ecde15f55bd6e",
      "125b1428e0924cb8939753dd7722bc5b",
      "1754d964e9e24a8b90ebfdbeb3178a46",
      "6c4d4fde243d4ff1a029138f2a0ba898",
      "e9a8b11e7a174c54ba2ca57a536880a5",
      "dfb435252da540d399924a4384c01e80",
      "9fabf407eeba44dfa5fcc9ef9c5670cf"
     ]
    },
    "id": "XIx8Pw08TfU7",
    "outputId": "167edd5b-7d2a-47de-8b73-c63e2e4ad04f"
   },
   "outputs": [
    {
     "data": {
      "application/vnd.jupyter.widget-view+json": {
       "model_id": "efb885e0c94940419bb57b3c7bc5fb6b",
       "version_major": 2,
       "version_minor": 0
      },
      "text/plain": [
       "tokenizer_config.json:   0%|          | 0.00/2.54k [00:00<?, ?B/s]"
      ]
     },
     "metadata": {},
     "output_type": "display_data"
    },
    {
     "data": {
      "application/vnd.jupyter.widget-view+json": {
       "model_id": "6fa69bdc35884e379715858164dad687",
       "version_major": 2,
       "version_minor": 0
      },
      "text/plain": [
       "spiece.model:   0%|          | 0.00/792k [00:00<?, ?B/s]"
      ]
     },
     "metadata": {},
     "output_type": "display_data"
    },
    {
     "data": {
      "application/vnd.jupyter.widget-view+json": {
       "model_id": "3b23a236c1af4257b163d0ded8e983f5",
       "version_major": 2,
       "version_minor": 0
      },
      "text/plain": [
       "special_tokens_map.json:   0%|          | 0.00/2.20k [00:00<?, ?B/s]"
      ]
     },
     "metadata": {},
     "output_type": "display_data"
    },
    {
     "data": {
      "application/vnd.jupyter.widget-view+json": {
       "model_id": "0267cee2ce6e4acd99ffd8619cbece40",
       "version_major": 2,
       "version_minor": 0
      },
      "text/plain": [
       "tokenizer.json:   0%|          | 0.00/2.42M [00:00<?, ?B/s]"
      ]
     },
     "metadata": {},
     "output_type": "display_data"
    },
    {
     "name": "stderr",
     "output_type": "stream",
     "text": [
      "You are using the default legacy behaviour of the <class 'transformers.models.t5.tokenization_t5.T5Tokenizer'>. This is expected, and simply means that the `legacy` (previous) behavior will be used so nothing changes for you. If you want to use the new behaviour, set `legacy=False`. This should only be set if you understand what it means, and thoroughly read the reason why this was added as explained in https://github.com/huggingface/transformers/pull/24565\n"
     ]
    },
    {
     "data": {
      "application/vnd.jupyter.widget-view+json": {
       "model_id": "43f34ab924204dc2b476986c4f879492",
       "version_major": 2,
       "version_minor": 0
      },
      "text/plain": [
       "Map:   0%|          | 0/28350 [00:00<?, ? examples/s]"
      ]
     },
     "metadata": {},
     "output_type": "display_data"
    },
    {
     "data": {
      "application/vnd.jupyter.widget-view+json": {
       "model_id": "562fd37b03294e33bd80662521e89270",
       "version_major": 2,
       "version_minor": 0
      },
      "text/plain": [
       "Map:   0%|          | 0/2191 [00:00<?, ? examples/s]"
      ]
     },
     "metadata": {},
     "output_type": "display_data"
    },
    {
     "data": {
      "application/vnd.jupyter.widget-view+json": {
       "model_id": "e532a32ea98a4870b584eef6b7f2c6ec",
       "version_major": 2,
       "version_minor": 0
      },
      "text/plain": [
       "Map:   0%|          | 0/2695 [00:00<?, ? examples/s]"
      ]
     },
     "metadata": {},
     "output_type": "display_data"
    }
   ],
   "source": [
    "from transformers import T5Tokenizer\n",
    "\n",
    "tokenizer = T5Tokenizer.from_pretrained(\"google/flan-t5-small\")\n",
    "\n",
    "def tokenize_function(examples):\n",
    "    inputs = [f\"correct: {text}\" for text in examples[\"input\"]]\n",
    "    targets = examples[\"target\"]\n",
    "    model_inputs = tokenizer(inputs, text_target=targets, truncation=True, padding=True)\n",
    "    return model_inputs\n",
    "\n",
    "tokenized_dataset = processed_dataset.map(tokenize_function, batched=True)"
   ]
  },
  {
   "cell_type": "code",
   "execution_count": null,
   "metadata": {
    "colab": {
     "base_uri": "https://localhost:8080/"
    },
    "id": "EwXbDIJrULDO",
    "outputId": "72d952d7-06a6-4adf-909b-516977dc301c"
   },
   "outputs": [
    {
     "name": "stderr",
     "output_type": "stream",
     "text": [
      "/usr/local/lib/python3.11/dist-packages/transformers/training_args.py:1594: FutureWarning: `evaluation_strategy` is deprecated and will be removed in version 4.46 of 🤗 Transformers. Use `eval_strategy` instead\n",
      "  warnings.warn(\n",
      "<ipython-input-15-d78e7252f2ce>:30: FutureWarning: `tokenizer` is deprecated and will be removed in version 5.0.0 for `Seq2SeqTrainer.__init__`. Use `processing_class` instead.\n",
      "  trainer = Seq2SeqTrainer(\n"
     ]
    }
   ],
   "source": [
    "from transformers import T5ForConditionalGeneration, DataCollatorForSeq2Seq, Seq2SeqTrainingArguments, Seq2SeqTrainer, EarlyStoppingCallback\n",
    "import torch\n",
    "\n",
    "device = torch.device(\"cuda\" if torch.cuda.is_available() else \"cpu\")\n",
    "\n",
    "model = T5ForConditionalGeneration.from_pretrained(\"google/flan-t5-small\").to(device)\n",
    "\n",
    "training_args = Seq2SeqTrainingArguments(\n",
    "    output_dir=\"./results\",\n",
    "    evaluation_strategy=\"epoch\",\n",
    "    learning_rate=3e-5,\n",
    "    per_device_train_batch_size=8,\n",
    "    per_device_eval_batch_size=8,\n",
    "    num_train_epochs=10,\n",
    "    weight_decay=0.01,\n",
    "    save_total_limit=2,\n",
    "    predict_with_generate=True,\n",
    "    load_best_model_at_end=True,\n",
    "    metric_for_best_model=\"eval_loss\",\n",
    "    greater_is_better=False,\n",
    "    save_strategy=\"epoch\",\n",
    "    logging_dir=\"./logs\",\n",
    "    logging_strategy=\"epoch\",\n",
    "    report_to=\"none\",\n",
    ")\n",
    "\n",
    "trainer = Seq2SeqTrainer(\n",
    "    model=model,\n",
    "    args=training_args,\n",
    "    train_dataset=tokenized_dataset[\"train\"],\n",
    "    eval_dataset=tokenized_dataset[\"validation\"],\n",
    "    tokenizer=tokenizer,\n",
    "    data_collator=DataCollatorForSeq2Seq(tokenizer=tokenizer, model=model),\n",
    "    callbacks=[EarlyStoppingCallback(early_stopping_patience=3)],\n",
    "\n",
    ")"
   ]
  },
  {
   "cell_type": "code",
   "execution_count": null,
   "metadata": {
    "colab": {
     "base_uri": "https://localhost:8080/",
     "height": 384
    },
    "collapsed": true,
    "id": "aHDGnyTTB9E8",
    "jupyter": {
     "outputs_hidden": true
    },
    "outputId": "6cca3d6f-e4e7-44cb-d061-95d746bcbea6"
   },
   "outputs": [
    {
     "data": {
      "text/html": [
       "\n",
       "    <div>\n",
       "      \n",
       "      <progress value='24808' max='35440' style='width:300px; height:20px; vertical-align: middle;'></progress>\n",
       "      [24808/35440 1:32:21 < 39:35, 4.48 it/s, Epoch 7/10]\n",
       "    </div>\n",
       "    <table border=\"1\" class=\"dataframe\">\n",
       "  <thead>\n",
       " <tr style=\"text-align: left;\">\n",
       "      <th>Epoch</th>\n",
       "      <th>Training Loss</th>\n",
       "      <th>Validation Loss</th>\n",
       "    </tr>\n",
       "  </thead>\n",
       "  <tbody>\n",
       "    <tr>\n",
       "      <td>1</td>\n",
       "      <td>0.058600</td>\n",
       "      <td>0.050539</td>\n",
       "    </tr>\n",
       "    <tr>\n",
       "      <td>2</td>\n",
       "      <td>0.056000</td>\n",
       "      <td>0.049242</td>\n",
       "    </tr>\n",
       "    <tr>\n",
       "      <td>3</td>\n",
       "      <td>0.053900</td>\n",
       "      <td>0.049410</td>\n",
       "    </tr>\n",
       "    <tr>\n",
       "      <td>4</td>\n",
       "      <td>0.052200</td>\n",
       "      <td>0.048988</td>\n",
       "    </tr>\n",
       "    <tr>\n",
       "      <td>5</td>\n",
       "      <td>0.050700</td>\n",
       "      <td>0.049118</td>\n",
       "    </tr>\n",
       "    <tr>\n",
       "      <td>6</td>\n",
       "      <td>0.049300</td>\n",
       "      <td>0.049433</td>\n",
       "    </tr>\n",
       "    <tr>\n",
       "      <td>7</td>\n",
       "      <td>0.048300</td>\n",
       "      <td>0.049769</td>\n",
       "    </tr>\n",
       "  </tbody>\n",
       "</table><p>"
      ],
      "text/plain": [
       "<IPython.core.display.HTML object>"
      ]
     },
     "metadata": {},
     "output_type": "display_data"
    },
    {
     "name": "stderr",
     "output_type": "stream",
     "text": [
      "There were missing keys in the checkpoint model loaded: ['encoder.embed_tokens.weight', 'decoder.embed_tokens.weight'].\n"
     ]
    },
    {
     "data": {
      "text/plain": [
       "TrainOutput(global_step=24808, training_loss=0.05272183607409593, metrics={'train_runtime': 5541.8479, 'train_samples_per_second': 51.156, 'train_steps_per_second': 6.395, 'total_flos': 1.097526222096384e+16, 'train_loss': 0.05272183607409593, 'epoch': 7.0})"
      ]
     },
     "execution_count": 20,
     "metadata": {},
     "output_type": "execute_result"
    }
   ],
   "source": [
    "trainer.train()\n"
   ]
  },
  {
   "cell_type": "code",
   "execution_count": null,
   "metadata": {
    "colab": {
     "base_uri": "https://localhost:8080/",
     "height": 191
    },
    "collapsed": true,
    "id": "BzQ7F3ebUZOD",
    "jupyter": {
     "outputs_hidden": true
    },
    "outputId": "f202c6c3-ffa0-44de-cadc-089fd5430340"
   },
   "outputs": [
    {
     "name": "stdout",
     "output_type": "stream",
     "text": [
      "updating: my_trained_model/ (stored 0%)\n",
      "updating: my_trained_model/spiece.model (deflated 48%)\n",
      "updating: my_trained_model/training_args.bin (deflated 52%)\n",
      "updating: my_trained_model/model.safetensors (deflated 7%)\n",
      "updating: my_trained_model/tokenizer_config.json (deflated 94%)\n",
      "updating: my_trained_model/config.json (deflated 62%)\n",
      "updating: my_trained_model/generation_config.json (deflated 29%)\n",
      "updating: my_trained_model/special_tokens_map.json (deflated 85%)\n",
      "updating: my_trained_model/added_tokens.json (deflated 83%)\n"
     ]
    },
    {
     "data": {
      "application/javascript": [
       "\n",
       "    async function download(id, filename, size) {\n",
       "      if (!google.colab.kernel.accessAllowed) {\n",
       "        return;\n",
       "      }\n",
       "      const div = document.createElement('div');\n",
       "      const label = document.createElement('label');\n",
       "      label.textContent = `Downloading \"${filename}\": `;\n",
       "      div.appendChild(label);\n",
       "      const progress = document.createElement('progress');\n",
       "      progress.max = size;\n",
       "      div.appendChild(progress);\n",
       "      document.body.appendChild(div);\n",
       "\n",
       "      const buffers = [];\n",
       "      let downloaded = 0;\n",
       "\n",
       "      const channel = await google.colab.kernel.comms.open(id);\n",
       "      // Send a message to notify the kernel that we're ready.\n",
       "      channel.send({})\n",
       "\n",
       "      for await (const message of channel.messages) {\n",
       "        // Send a message to notify the kernel that we're ready.\n",
       "        channel.send({})\n",
       "        if (message.buffers) {\n",
       "          for (const buffer of message.buffers) {\n",
       "            buffers.push(buffer);\n",
       "            downloaded += buffer.byteLength;\n",
       "            progress.value = downloaded;\n",
       "          }\n",
       "        }\n",
       "      }\n",
       "      const blob = new Blob(buffers, {type: 'application/binary'});\n",
       "      const a = document.createElement('a');\n",
       "      a.href = window.URL.createObjectURL(blob);\n",
       "      a.download = filename;\n",
       "      div.appendChild(a);\n",
       "      a.click();\n",
       "      div.remove();\n",
       "    }\n",
       "  "
      ],
      "text/plain": [
       "<IPython.core.display.Javascript object>"
      ]
     },
     "metadata": {},
     "output_type": "display_data"
    },
    {
     "data": {
      "application/javascript": [
       "download(\"download_6edc70ad-1066-4101-ad50-352244db4664\", \"my_trained_model.zip\", 285792662)"
      ],
      "text/plain": [
       "<IPython.core.display.Javascript object>"
      ]
     },
     "metadata": {},
     "output_type": "display_data"
    }
   ],
   "source": [
    "from google.colab import files\n",
    "trainer.save_model(\"my_trained_model\")\n",
    "\n",
    "!zip -r my_trained_model.zip my_trained_model\n",
    "\n",
    "files.download('my_trained_model.zip')"
   ]
  },
  {
   "cell_type": "code",
   "execution_count": null,
   "metadata": {
    "colab": {
     "base_uri": "https://localhost:8080/"
    },
    "id": "6H8Ma8owjJQj",
    "outputId": "a1a4a671-0fa9-4da1-d63e-11e3e0e2cc80"
   },
   "outputs": [
    {
     "name": "stdout",
     "output_type": "stream",
     "text": [
      "I am writing in order to express my disappointment with your musical show 'Over the Rainbow'\n"
     ]
    }
   ],
   "source": [
    "input_text = \"I am writing in order to express my disappointment about your musical show 'Over the Rainbow'.\"\n",
    "inputs = tokenizer(f\"correct: {input_text}\", return_tensors=\"pt\").to(device)\n",
    "outputs = model.generate(**inputs)\n",
    "corrected_text = tokenizer.decode(outputs[0], skip_special_tokens=True)\n",
    "print(corrected_text)  # Çıktı: \"I am writing in order to express my disappointment with your musical show 'Over the Rainbow'.\""
   ]
  }
 ],
 "metadata": {
  "accelerator": "GPU",
  "colab": {
   "gpuType": "T4",
   "provenance": []
  },
  "kernelspec": {
   "display_name": "Python 3 (ipykernel)",
   "language": "python",
   "name": "python3"
  },
  "language_info": {
   "codemirror_mode": {
    "name": "ipython",
    "version": 3
   },
   "file_extension": ".py",
   "mimetype": "text/x-python",
   "name": "python",
   "nbconvert_exporter": "python",
   "pygments_lexer": "ipython3",
   "version": "3.11.5"
  },
  "widgets": {
   "application/vnd.jupyter.widget-state+json": {
    "state": {},
    "version_major": 2,
    "version_minor": 0
   }
  }
 },
 "nbformat": 4,
 "nbformat_minor": 4
}
